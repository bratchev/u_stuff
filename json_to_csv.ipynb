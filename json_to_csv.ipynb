{
 "cells": [
  {
   "cell_type": "code",
   "execution_count": 3,
   "metadata": {
    "collapsed": false
   },
   "outputs": [],
   "source": [
    "import json\n",
    "import csv\n",
    "\n",
    "f = open('uber_data_challenge.json') \n",
    "data = json.load(f) \n",
    "f.close()\n",
    "\n",
    "# open a file for writing\n",
    "\n",
    "f = open('Data.csv', 'w')\n",
    "\n",
    "# create the csv writer object\n",
    "\n",
    "csvwriter = csv.writer(f)\n",
    "\n",
    "count = 0\n",
    "\n",
    "for item in data:\n",
    "\n",
    "      if count == 0:\n",
    "\n",
    "             header = item.keys()\n",
    "\n",
    "             csvwriter.writerow(header)\n",
    "\n",
    "             count += 1\n",
    "\n",
    "      csvwriter.writerow(item.values())\n",
    "\n",
    "f.close()\n"
   ]
  },
  {
   "cell_type": "code",
   "execution_count": null,
   "metadata": {
    "collapsed": true
   },
   "outputs": [],
   "source": []
  }
 ],
 "metadata": {
  "kernelspec": {
   "display_name": "Python 2",
   "language": "python",
   "name": "python2"
  },
  "language_info": {
   "codemirror_mode": {
    "name": "ipython",
    "version": 2
   },
   "file_extension": ".py",
   "mimetype": "text/x-python",
   "name": "python",
   "nbconvert_exporter": "python",
   "pygments_lexer": "ipython2",
   "version": "2.7.11"
  }
 },
 "nbformat": 4,
 "nbformat_minor": 0
}
